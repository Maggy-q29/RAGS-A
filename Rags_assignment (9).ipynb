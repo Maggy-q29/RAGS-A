{
  "cells": [
    {
      "cell_type": "code",
      "source": [
        "#INSTALL DEPENDANCY\n",
        "!pip install langchain langchain_groq faiss-cpu sentence-transformers pypdf"
      ],
      "metadata": {
        "collapsed": true,
        "id": "OqFXXcnIbaU8"
      },
      "execution_count": null,
      "outputs": []
    },
    {
      "cell_type": "code",
      "source": [
        "pip install -U langchain-community"
      ],
      "metadata": {
        "collapsed": true,
        "id": "ZezttJibbbsm"
      },
      "execution_count": null,
      "outputs": []
    },
    {
      "cell_type": "code",
      "source": [
        "# 2. Import libraries\n",
        "import os\n",
        "from groq import Groq\n",
        "from langchain_groq import ChatGroq\n",
        "from langchain.text_splitter import RecursiveCharacterTextSplitter\n",
        "from langchain.vectorstores import FAISS\n",
        "from langchain.embeddings import HuggingFaceEmbeddings\n",
        "from langchain.document_loaders import PyPDFLoader\n",
        "from langchain.docstore.document import Document\n",
        "from langchain.chains import RetrievalQA"
      ],
      "metadata": {
        "id": "jEtwiMoARuSt"
      },
      "execution_count": null,
      "outputs": []
    },
    {
      "cell_type": "code",
      "source": [
        "# Load a PDF\n",
        "from google.colab import files\n",
        "upload = files.upload()\n"
      ],
      "metadata": {
        "id": "2zfgIO57cW4Q"
      },
      "execution_count": null,
      "outputs": []
    },
    {
      "cell_type": "code",
      "source": [
        "pdf_path = \"The_Constitution_of_Kenya_2010.pdf\"\n",
        "loader = PyPDFLoader(pdf_path)\n",
        "docs = loader.load()\n"
      ],
      "metadata": {
        "id": "pWHXWGT-19U_"
      },
      "execution_count": null,
      "outputs": []
    },
    {
      "cell_type": "code",
      "source": [
        "# Split text into chunks\n",
        "text_splitter = RecursiveCharacterTextSplitter(chunk_size=1000, chunk_overlap=50)\n",
        "chunks = text_splitter.split_documents(docs)\n",
        "\n",
        "#convet to vector\n",
        "embeddings = HuggingFaceEmbeddings(model_name=\"sentence-transformers/all-MiniLM-L6-v2\")\n",
        "vectorstore = FAISS.from_documents(chunks, embeddings)\n",
        "\n",
        "retriever = vectorstore.as_retriever()"
      ],
      "metadata": {
        "id": "evUf5kTMiFoe"
      },
      "execution_count": null,
      "outputs": []
    },
    {
      "cell_type": "code",
      "source": [
        "import os\n",
        "os.environ[\"GROQ_API_KEY\"] =\"your-real-api-key\""
      ],
      "metadata": {
        "id": "FmUKTHYAY0Zw"
      },
      "execution_count": null,
      "outputs": []
    },
    {
      "cell_type": "code",
      "source": [
        "# initialize groq llm\n",
        "groq_llm = ChatGroq(\n",
        "    model=\"moonshotai/kimi-k2-instruct-0905\",\n",
        "    temperature=0,\n",
        "    api_key= \"\"\n",
        ")"
      ],
      "metadata": {
        "id": "qnXgOFx-TYHr"
      },
      "execution_count": null,
      "outputs": []
    },
    {
      "cell_type": "code",
      "source": [
        "#  Create RetrievalQA chain\n",
        "from langchain.chains import RetrievalQA\n",
        "qa_chain = RetrievalQA.from_chain_type(\n",
        "    llm=groq_llm,\n",
        "retriever=vectorstore.as_retriever(),\n",
        "    return_source_documents=True\n",
        ")\n"
      ],
      "metadata": {
        "id": "tQ7f-pLSUjZM"
      },
      "execution_count": null,
      "outputs": []
    },
    {
      "cell_type": "code",
      "source": [
        "#  Ask a question\n",
        "query = \"What is the supreme law of Kenya?\"\n",
        "result = qa_chain({\"query\": query})\n",
        "\n",
        "print(\"Answer:\", result[\"result\"])\n",
        "print(\"\\nSources chunks:\")\n",
        "for doc in result[\"source_documents\"]:\n",
        "    print(\"-\", doc.page_content)\n"
      ],
      "metadata": {
        "id": "aOlWYS0YfkZH"
      },
      "execution_count": null,
      "outputs": []
    },
    {
      "cell_type": "markdown",
      "source": [
        "#### types of chat gpt questions to ask\n",
        "-"
      ],
      "metadata": {
        "id": "YzyhvxLXVIjx"
      }
    }
  ],
  "metadata": {
    "colab": {
      "provenance": []
    },
    "kernelspec": {
      "display_name": "Python 3",
      "name": "python3"
    },
    "language_info": {
      "name": "python"
    }
  },
  "nbformat": 4,
  "nbformat_minor": 0
}